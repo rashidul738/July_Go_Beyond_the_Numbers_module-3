{
 "cells": [
  {
   "cell_type": "code",
   "execution_count": 9,
   "id": "561ee032",
   "metadata": {},
   "outputs": [],
   "source": [
    "from selenium import webdriver\n",
    "from selenium.webdriver.chrome.service import Service\n",
    "from selenium.webdriver.common.by import By\n",
    "from selenium.webdriver.chrome.options import Options\n",
    "from webdriver_manager.chrome import ChromeDriverManager\n",
    "import pandas as pd\n",
    "import undetected_chromedriver as uc\n",
    "from parsel import Selector"
   ]
  },
  {
   "cell_type": "code",
   "execution_count": 6,
   "id": "9730016b",
   "metadata": {},
   "outputs": [],
   "source": [
    "import undetected_chromedriver as uc\n",
    "driver = uc.Chrome(use_subprocess=True)\n",
    "driver.maximize_window()"
   ]
  },
  {
   "cell_type": "code",
   "execution_count": 7,
   "id": "57590552",
   "metadata": {},
   "outputs": [],
   "source": [
    "driver.get(\"https://sportsbook.fanduel.com/soccer/fifa-club-world-cup/man-city-v-al-hilal-34461653\")"
   ]
  },
  {
   "cell_type": "code",
   "execution_count": 37,
   "id": "8baf2267",
   "metadata": {},
   "outputs": [
    {
     "name": "stdout",
     "output_type": "stream",
     "text": [
      "-105, +165, +170, +210, +230, +230, +250, +210, +260, +260, +280, +310, +350, +420, +400, +410, +410, +420, +490, +500, +600, +500, +700, +700, +600, +600, +800, +700, +950, +950, +800, +1000, +850, +1100, +850, +1000, +1200, +1300, +1200, +1100, +1100, +1400, +1200, +1700, +1700, +1700, +2000, +1800, +1700, +2100, +2200, +2700, +3200, +3200, +3200\n"
     ]
    }
   ],
   "source": [
    "sel = Selector(driver.page_source)\n",
    "markets = sel.xpath('//div[@class=\"am an ao ap cp cy af ar s h i j ah ai m aj o ak q al\"]//span[@class=\"ae af hv hw hx mj hz gg s aw ch mk ml h i j ah ai m aj o ak q al ay\"]/text()|//div[@class=\"am an ao ap cp cy af ar s h i j ah ai m aj o ak q al\"]//div[@class=\"am aq ao ap af ig s h i j ah ai m aj o ak q al\"]//span/text()').extract()\n",
    "markets = [market.strip() for market in markets if market.strip()]\n",
    "markets = ', '.join(markets)\n",
    "print(markets)"
   ]
  },
  {
   "cell_type": "code",
   "execution_count": 38,
   "id": "86f2f4b5",
   "metadata": {},
   "outputs": [
    {
     "name": "stdout",
     "output_type": "stream",
     "text": [
      "Kylian Mbappe, -105\n",
      "Gonzalo Garcia, +165\n",
      "Vinicius Junior, +170\n",
      "Victor Munoz, +210\n",
      "Arda Guler, +230\n",
      "Rodrygo, +230\n",
      "Brahim Diaz, +250\n",
      "Dusan Vlahovic, +210\n",
      "Jude Bellingham, +260\n",
      "Randal Kolo Muani, +260\n",
      "Tommaso Mancini, +280\n",
      "Arkadiusz Milik, +310\n",
      "Nicolas Gonzalez, +350\n",
      "Luka Modric, +420\n",
      "Kenan Yildiz, +400\n",
      "Nicolo Cudrig, +410\n",
      "Alessandro Pietrelli, +410\n",
      "Francisco Conceicao, +420\n",
      "Lorenzo Anghele, +490\n",
      "Teun Koopmeiners, +500\n",
      "Federico Valverde, +600\n",
      "Timothy Weah, +500\n",
      "Trent Alexander-Arnold, +700\n",
      "Dani Ceballos, +700\n",
      "Samuel Mbangula, +600\n",
      "Vasilije Adzic, +600\n",
      "Jacobo Ramon, +800\n",
      "Weston McKennie, +700\n",
      "Mario Martin, +950\n",
      "Dean Huijsen, +950\n",
      "Douglas Luiz, +800\n",
      "Jesus Fortea, +1000\n",
      "Filip Kostic, +850\n",
      "Aurelien Tchouameni, +1100\n",
      "Khephren Thuram, +850\n",
      "Eder Militao, +1000\n",
      "Lucas Vazquez, +1200\n",
      "Chema Andres, +1300\n",
      "Manuel Locatelli, +1200\n",
      "Andrea Cambiaso, +1100\n",
      "Bremer, +1100\n",
      "Antonio Rudiger, +1400\n",
      "Augusto Owusu, +1200\n",
      "Fran Garcia, +1700\n",
      "Diego Aguado, +1700\n",
      "Federico Gatti, +1700\n",
      "Raul Asencio, +2000\n",
      "Daniele Rugani, +1800\n",
      "Stefano Turco, +1700\n",
      "Pierre Kalulu, +2100\n",
      "Alberto Costa, +2200\n",
      "Youssef Lekhedim, +2700\n",
      "Lloyd Kelly, +3200\n",
      "Javier Gil, +3200\n",
      "Jonas Rouhi, +3200\n"
     ]
    }
   ],
   "source": [
    "players = sel.xpath('//div[@class=\"am an ao ap cp cy af ar s h i j ah ai m aj o ak q al\"]//span[@class=\"ae af hv hw hx mk hz gd s aw ch ml mm h i j ah ai m aj o ak q al ay\"]/text()').extract()\n",
    "scores = sel.xpath('//div[@class=\"am an ao ap cp cy af ar s h i j ah ai m aj o ak q al\"]//div[@class=\"am aq ao ap af ig s h i j ah ai m aj o ak q al\"]//span/text()').extract()\n",
    "for p , s in zip(players, scores):\n",
    "    print(f\"{p}, {s}\")"
   ]
  },
  {
   "cell_type": "code",
   "execution_count": 42,
   "id": "c7c63a99",
   "metadata": {},
   "outputs": [
    {
     "name": "stdout",
     "output_type": "stream",
     "text": [
      "Home Team: 1-0, +800 Odds, 2-0, +900 Odds, 2-1, +750 Odds, 3-0, +1600 Odds, 3-1, +1200 Odds, 3-2, +2000 Odds, 4-0, +3000 Odds, 4-1, +2600 Odds, 4-2, +4200 Odds, 4-3, +9000 Odds, 5-0, +7000 Odds, 5-1, +6500 Odds, 5-2, +10000 Odds, 5-3, +20000 Odds, 5-4, +25000 Odds, 6-0, +18000 Odds, 6-1, +13000 Odds, 6-2, +25000 Odds, 6-3, +25000 Odds, 6-4, +25000 Odds, 6-5, +25000 Odds, 7-0, +25000 Odds, 7-1, +25000 Odds, 7-2, +25000 Odds, 7-3, +25000 Odds, 7-4, +25000 Odds, 8-0, +25000 Odds, 8-1, +25000 Odds, 8-2, +25000 Odds, 8-3, +25000 Odds, 9-0, +25000 Odds, 9-1, +25000 Odds, 9-2, +25000 Odds, 10-0, +25000 Odds, 10-1, +25000 Odds, 11-0, +25000 Odds, Show less correct score options\n"
     ]
    }
   ],
   "source": [
    "home = sel.xpath('//div[@class=\"am an ao ap cp cy af ar s cl h i j ah ai m aj o ak q al\"]/div/div[1]/@aria-label').getall()\n",
    "# home = [h.strip() for h in home if h.strip()]\n",
    "home = ', '.join(home)\n",
    "print(f\"Home Team: {home}\")"
   ]
  },
  {
   "cell_type": "code",
   "execution_count": 43,
   "id": "76067365",
   "metadata": {},
   "outputs": [
    {
     "name": "stdout",
     "output_type": "stream",
     "text": [
      "Tie Team: tie game 0-0, +1600 Odds, tie game 1-1, +650 Odds, tie game 2-2, +1200 Odds, tie game 3-3, +4000 Odds, tie game 4-4, +22000 Odds, tie game 5-5, +25000 Odds, selection unavailable, selection unavailable, selection unavailable, selection unavailable, selection unavailable, selection unavailable, selection unavailable, selection unavailable, selection unavailable, selection unavailable, selection unavailable, selection unavailable, selection unavailable, selection unavailable, selection unavailable, selection unavailable, selection unavailable, selection unavailable, selection unavailable, selection unavailable, selection unavailable, selection unavailable, selection unavailable, selection unavailable, selection unavailable, selection unavailable, selection unavailable, selection unavailable, selection unavailable, selection unavailable\n"
     ]
    }
   ],
   "source": [
    "Tie = sel.xpath('//div[@class=\"am an ao ap cp cy af ar s cl h i j ah ai m aj o ak q al\"]/div/div[2]/@aria-label').getall()\n",
    "# home = [h.strip() for h in home if h.strip()]\n",
    "Tie = ', '.join(Tie)\n",
    "print(f\"Tie Team: {Tie}\")"
   ]
  },
  {
   "cell_type": "code",
   "execution_count": 44,
   "id": "5c0498b4",
   "metadata": {},
   "outputs": [
    {
     "name": "stdout",
     "output_type": "stream",
     "text": [
      "away Team: 0-1, +1400 Odds, 0-2, +2500 Odds, 1-2, +1300 Odds, 0-3, +5500 Odds, 1-3, +3000 Odds, 2-3, +3200 Odds, 0-4, +16000 Odds, 1-4, +10000 Odds, 2-4, +10000 Odds, 3-4, +13000 Odds, 0-5, +25000 Odds, 1-5, +25000 Odds, 2-5, +25000 Odds, 3-5, +25000 Odds, 4-5, +25000 Odds, 0-6, +25000 Odds, 1-6, +25000 Odds, 2-6, +25000 Odds, 3-6, +25000 Odds, 4-6, +25000 Odds, 5-6, +25000 Odds, 0-7, +25000 Odds, 1-7, +25000 Odds, 2-7, +25000 Odds, 3-7, +25000 Odds, 4-7, +25000 Odds, 0-8, +25000 Odds, 1-8, +25000 Odds, 2-8, +25000 Odds, 3-8, +25000 Odds, 0-9, +25000 Odds, 1-9, +25000 Odds, 2-9, +25000 Odds, 0-10, +25000 Odds, 1-10, +25000 Odds, 0-11, +25000 Odds\n"
     ]
    }
   ],
   "source": [
    "away = sel.xpath('//div[@class=\"am an ao ap cp cy af ar s cl h i j ah ai m aj o ak q al\"]/div/div[3]/@aria-label').getall()\n",
    "# home = [h.strip() for h in home if h.strip()]\n",
    "away = ', '.join(away)\n",
    "print(f\"away Team: {away}\")"
   ]
  }
 ],
 "metadata": {
  "kernelspec": {
   "display_name": "Python 3",
   "language": "python",
   "name": "python3"
  },
  "language_info": {
   "codemirror_mode": {
    "name": "ipython",
    "version": 3
   },
   "file_extension": ".py",
   "mimetype": "text/x-python",
   "name": "python",
   "nbconvert_exporter": "python",
   "pygments_lexer": "ipython3",
   "version": "3.13.2"
  }
 },
 "nbformat": 4,
 "nbformat_minor": 5
}
